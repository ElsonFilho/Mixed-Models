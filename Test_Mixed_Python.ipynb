{
 "cells": [
  {
   "cell_type": "markdown",
   "metadata": {},
   "source": [
    "# Testing Mixed Models\n",
    "## Jupyter Example with Python\n",
    "### This example illustrates how to perform a linear mixed model analysis.\n",
    "\n",
    "**PREPARE THE ENVIRONMENT**\n",
    "\n",
    "**LINEAR MIXED MODEL**\n",
    "\n",
    "**CHECK RESULTS**"
   ]
  },
  {
   "cell_type": "markdown",
   "metadata": {},
   "source": [
    "## Prepare the Environment"
   ]
  },
  {
   "cell_type": "markdown",
   "metadata": {},
   "source": [
    "### Import Packages"
   ]
  },
  {
   "cell_type": "code",
   "execution_count": 1,
   "metadata": {},
   "outputs": [],
   "source": [
    "import swat\n",
    "import pandas as pd\n",
    "import matplotlib.pyplot as plt\n",
    "from IPython.core.display import display, HTML\n",
    "from swat.render import render_html #to visualize model results\n",
    "%matplotlib inline"
   ]
  },
  {
   "cell_type": "markdown",
   "metadata": {},
   "source": [
    "### CAS Server connection details"
   ]
  },
  {
   "cell_type": "code",
   "execution_count": 2,
   "metadata": {},
   "outputs": [
    {
     "name": "stdout",
     "output_type": "stream",
     "text": [
      "NOTE: Grid node action status report: 1 nodes, 8 total actions executed.\n"
     ]
    }
   ],
   "source": [
    "import os\n",
    "import swat\n",
    "\n",
    "os.environ[\"CAS_CLIENT_SSL_CA_LIST\"] = '/etc/pki/tls/certs/trustedcerts.pem'\n",
    "\n",
    "conn = swat.CAS('viya4-node-4.globalhls.sashq-d.openstack.sas.com',32232,'XXXXX','XXXXX')\n",
    "out = conn.serverstatus()"
   ]
  },
  {
   "cell_type": "markdown",
   "metadata": {},
   "source": [
    "### Import action sets"
   ]
  },
  {
   "cell_type": "code",
   "execution_count": 3,
   "metadata": {},
   "outputs": [
    {
     "name": "stdout",
     "output_type": "stream",
     "text": [
      "NOTE: Added action set 'dataStep'.\n",
      "NOTE: Added action set 'dataPreprocess'.\n",
      "NOTE: Added action set 'mixed'.\n"
     ]
    },
    {
     "data": {
      "text/html": [
       "<div class=\"cas-results-key\"><b>&#167; actionset</b></div>\n",
       "<div class=\"cas-results-body\">\n",
       "<div>mixed</div>\n",
       "</div>\n",
       "<div class=\"cas-output-area\"></div>\n",
       "<p class=\"cas-results-performance\"><small><span class=\"cas-elapsed\">elapsed 0.00729s</span> &#183; <span class=\"cas-user\">user 0.0011s</span> &#183; <span class=\"cas-sys\">sys 0.00614s</span> &#183; <span class=\"cas-memory\">mem 0.237MB</span></small></p>"
      ],
      "text/plain": [
       "[actionset]\n",
       "\n",
       " 'mixed'\n",
       "\n",
       "+ Elapsed: 0.00729s, user: 0.0011s, sys: 0.00614s, mem: 0.237mb"
      ]
     },
     "execution_count": 3,
     "metadata": {},
     "output_type": "execute_result"
    }
   ],
   "source": [
    "conn.loadactionset(actionset=\"dataStep\")\n",
    "conn.loadactionset(actionset=\"dataPreprocess\")\n",
    "conn.loadactionset(actionset=\"mixed\")"
   ]
  },
  {
   "cell_type": "markdown",
   "metadata": {},
   "source": [
    "## Access the Data"
   ]
  },
  {
   "cell_type": "code",
   "execution_count": 4,
   "metadata": {},
   "outputs": [
    {
     "data": {
      "text/html": [
       "<div class=\"cas-results-key\"><b>&#167; Summary</b></div>\n",
       "<div class=\"cas-results-body\">\n",
       "<div>\n",
       "<style scoped>\n",
       "    .dataframe tbody tr th:only-of-type {\n",
       "        vertical-align: middle;\n",
       "    }\n",
       "\n",
       "    .dataframe tbody tr th {\n",
       "        vertical-align: top;\n",
       "    }\n",
       "\n",
       "    .dataframe thead th {\n",
       "        text-align: right;\n",
       "    }\n",
       "</style>\n",
       "<table border=\"1\" class=\"dataframe\"><caption>Descriptive Statistics for SCHOOLSAMPLE</caption>\n",
       "  <thead>\n",
       "    <tr style=\"text-align: right;\">\n",
       "      <th title=\"\"></th>\n",
       "      <th title=\"Analysis Variable\">Column</th>\n",
       "      <th title=\"Minimum\">Min</th>\n",
       "      <th title=\"Maximum\">Max</th>\n",
       "      <th title=\"N\">N</th>\n",
       "      <th title=\"N Miss\">NMiss</th>\n",
       "      <th title=\"Mean\">Mean</th>\n",
       "      <th title=\"Sum\">Sum</th>\n",
       "      <th title=\"Std Dev\">Std</th>\n",
       "      <th title=\"Std Error\">StdErr</th>\n",
       "      <th title=\"Variance\">Var</th>\n",
       "      <th title=\"USS\">USS</th>\n",
       "      <th title=\"Corrected SS\">CSS</th>\n",
       "      <th title=\"Coeff of Variation\">CV</th>\n",
       "      <th title=\"t Value\">TValue</th>\n",
       "      <th title=\"Pr &gt; |t|\">ProbT</th>\n",
       "      <th title=\"Skewness\">Skewness</th>\n",
       "      <th title=\"Kurtosis\">Kurtosis</th>\n",
       "    </tr>\n",
       "  </thead>\n",
       "  <tbody>\n",
       "    <tr>\n",
       "      <td>0</td>\n",
       "      <td>SchoolID</td>\n",
       "      <td>1.000000</td>\n",
       "      <td>1000.000000</td>\n",
       "      <td>400000.0</td>\n",
       "      <td>0.0</td>\n",
       "      <td>500.500000</td>\n",
       "      <td>2.002000e+08</td>\n",
       "      <td>288.675351</td>\n",
       "      <td>0.456436</td>\n",
       "      <td>8.333346e+04</td>\n",
       "      <td>1.335334e+11</td>\n",
       "      <td>3.333330e+10</td>\n",
       "      <td>57.677393</td>\n",
       "      <td>1096.539738</td>\n",
       "      <td>0.0</td>\n",
       "      <td>-1.268599e-17</td>\n",
       "      <td>-1.200002</td>\n",
       "    </tr>\n",
       "    <tr>\n",
       "      <td>1</td>\n",
       "      <td>nID</td>\n",
       "      <td>1.000000</td>\n",
       "      <td>50.000000</td>\n",
       "      <td>400000.0</td>\n",
       "      <td>0.0</td>\n",
       "      <td>25.500000</td>\n",
       "      <td>1.020000e+07</td>\n",
       "      <td>14.430888</td>\n",
       "      <td>0.022817</td>\n",
       "      <td>2.082505e+02</td>\n",
       "      <td>3.434000e+08</td>\n",
       "      <td>8.330000e+07</td>\n",
       "      <td>56.591717</td>\n",
       "      <td>1117.576158</td>\n",
       "      <td>0.0</td>\n",
       "      <td>5.723501e-17</td>\n",
       "      <td>-1.200960</td>\n",
       "    </tr>\n",
       "    <tr>\n",
       "      <td>2</td>\n",
       "      <td>Neighborhood</td>\n",
       "      <td>1.000000</td>\n",
       "      <td>15035.000000</td>\n",
       "      <td>400000.0</td>\n",
       "      <td>0.0</td>\n",
       "      <td>7518.000000</td>\n",
       "      <td>3.007200e+09</td>\n",
       "      <td>4330.154313</td>\n",
       "      <td>6.846575</td>\n",
       "      <td>1.875024e+07</td>\n",
       "      <td>3.010821e+13</td>\n",
       "      <td>7.500076e+12</td>\n",
       "      <td>57.597158</td>\n",
       "      <td>1098.067262</td>\n",
       "      <td>0.0</td>\n",
       "      <td>1.708937e-15</td>\n",
       "      <td>-1.199976</td>\n",
       "    </tr>\n",
       "    <tr>\n",
       "      <td>3</td>\n",
       "      <td>bInt</td>\n",
       "      <td>0.000447</td>\n",
       "      <td>14.999512</td>\n",
       "      <td>400000.0</td>\n",
       "      <td>0.0</td>\n",
       "      <td>7.487396</td>\n",
       "      <td>2.994958e+06</td>\n",
       "      <td>4.327243</td>\n",
       "      <td>0.006842</td>\n",
       "      <td>1.872504e+01</td>\n",
       "      <td>2.991444e+07</td>\n",
       "      <td>7.489996e+06</td>\n",
       "      <td>57.793702</td>\n",
       "      <td>1094.332966</td>\n",
       "      <td>0.0</td>\n",
       "      <td>4.498134e-03</td>\n",
       "      <td>-1.202599</td>\n",
       "    </tr>\n",
       "    <tr>\n",
       "      <td>4</td>\n",
       "      <td>bTime</td>\n",
       "      <td>0.000033</td>\n",
       "      <td>14.999720</td>\n",
       "      <td>400000.0</td>\n",
       "      <td>0.0</td>\n",
       "      <td>7.500519</td>\n",
       "      <td>3.000207e+06</td>\n",
       "      <td>4.350453</td>\n",
       "      <td>0.006879</td>\n",
       "      <td>1.892644e+01</td>\n",
       "      <td>3.007367e+07</td>\n",
       "      <td>7.570556e+06</td>\n",
       "      <td>58.002022</td>\n",
       "      <td>1090.402555</td>\n",
       "      <td>0.0</td>\n",
       "      <td>4.663856e-03</td>\n",
       "      <td>-1.204541</td>\n",
       "    </tr>\n",
       "    <tr>\n",
       "      <td>5</td>\n",
       "      <td>bTime2</td>\n",
       "      <td>0.000014</td>\n",
       "      <td>1.000000</td>\n",
       "      <td>400000.0</td>\n",
       "      <td>0.0</td>\n",
       "      <td>0.499903</td>\n",
       "      <td>1.999614e+05</td>\n",
       "      <td>0.287651</td>\n",
       "      <td>0.000455</td>\n",
       "      <td>8.274286e-02</td>\n",
       "      <td>1.330584e+05</td>\n",
       "      <td>3.309706e+04</td>\n",
       "      <td>57.541225</td>\n",
       "      <td>1099.134624</td>\n",
       "      <td>0.0</td>\n",
       "      <td>-3.931826e-03</td>\n",
       "      <td>-1.193717</td>\n",
       "    </tr>\n",
       "    <tr>\n",
       "      <td>6</td>\n",
       "      <td>sID</td>\n",
       "      <td>1.000000</td>\n",
       "      <td>2.000000</td>\n",
       "      <td>400000.0</td>\n",
       "      <td>0.0</td>\n",
       "      <td>1.500000</td>\n",
       "      <td>6.000000e+05</td>\n",
       "      <td>0.500001</td>\n",
       "      <td>0.000791</td>\n",
       "      <td>2.500006e-01</td>\n",
       "      <td>1.000000e+06</td>\n",
       "      <td>1.000000e+05</td>\n",
       "      <td>33.333375</td>\n",
       "      <td>1897.364224</td>\n",
       "      <td>0.0</td>\n",
       "      <td>9.989713e-17</td>\n",
       "      <td>-2.000010</td>\n",
       "    </tr>\n",
       "    <tr>\n",
       "      <td>7</td>\n",
       "      <td>Time</td>\n",
       "      <td>1.000000</td>\n",
       "      <td>4.000000</td>\n",
       "      <td>400000.0</td>\n",
       "      <td>0.0</td>\n",
       "      <td>2.500000</td>\n",
       "      <td>1.000000e+06</td>\n",
       "      <td>1.118035</td>\n",
       "      <td>0.001768</td>\n",
       "      <td>1.250003e+00</td>\n",
       "      <td>3.000000e+06</td>\n",
       "      <td>5.000000e+05</td>\n",
       "      <td>44.721415</td>\n",
       "      <td>1414.211795</td>\n",
       "      <td>0.0</td>\n",
       "      <td>-7.631934e-17</td>\n",
       "      <td>-1.360002</td>\n",
       "    </tr>\n",
       "    <tr>\n",
       "      <td>8</td>\n",
       "      <td>Math</td>\n",
       "      <td>-2.761392</td>\n",
       "      <td>91.265275</td>\n",
       "      <td>400000.0</td>\n",
       "      <td>0.0</td>\n",
       "      <td>29.987198</td>\n",
       "      <td>1.199488e+07</td>\n",
       "      <td>17.141076</td>\n",
       "      <td>0.027102</td>\n",
       "      <td>2.938165e+02</td>\n",
       "      <td>4.772191e+08</td>\n",
       "      <td>1.175263e+08</td>\n",
       "      <td>57.161312</td>\n",
       "      <td>1106.439839</td>\n",
       "      <td>0.0</td>\n",
       "      <td>7.888394e-01</td>\n",
       "      <td>-0.005196</td>\n",
       "    </tr>\n",
       "  </tbody>\n",
       "</table>\n",
       "</div>\n",
       "</div>\n",
       "<div class=\"cas-output-area\"></div>\n",
       "<p class=\"cas-results-performance\"><small><span class=\"cas-elapsed\">elapsed 0.0388s</span> &#183; <span class=\"cas-user\">user 0.132s</span> &#183; <span class=\"cas-sys\">sys 0.0154s</span> &#183; <span class=\"cas-memory\">mem 2.31MB</span></small></p>"
      ],
      "text/plain": [
       "[Summary]\n",
       "\n",
       " Descriptive Statistics for SCHOOLSAMPLE\n",
       " \n",
       "          Column       Min           Max         N  NMiss         Mean           Sum          Std    StdErr           Var           USS           CSS         CV       TValue  ProbT      Skewness  Kurtosis\n",
       " 0      SchoolID  1.000000   1000.000000  400000.0    0.0   500.500000  2.002000e+08   288.675351  0.456436  8.333346e+04  1.335334e+11  3.333330e+10  57.677393  1096.539738    0.0 -1.268599e-17 -1.200002\n",
       " 1           nID  1.000000     50.000000  400000.0    0.0    25.500000  1.020000e+07    14.430888  0.022817  2.082505e+02  3.434000e+08  8.330000e+07  56.591717  1117.576158    0.0  5.723501e-17 -1.200960\n",
       " 2  Neighborhood  1.000000  15035.000000  400000.0    0.0  7518.000000  3.007200e+09  4330.154313  6.846575  1.875024e+07  3.010821e+13  7.500076e+12  57.597158  1098.067262    0.0  1.708937e-15 -1.199976\n",
       " 3          bInt  0.000447     14.999512  400000.0    0.0     7.487396  2.994958e+06     4.327243  0.006842  1.872504e+01  2.991444e+07  7.489996e+06  57.793702  1094.332966    0.0  4.498134e-03 -1.202599\n",
       " 4         bTime  0.000033     14.999720  400000.0    0.0     7.500519  3.000207e+06     4.350453  0.006879  1.892644e+01  3.007367e+07  7.570556e+06  58.002022  1090.402555    0.0  4.663856e-03 -1.204541\n",
       " 5        bTime2  0.000014      1.000000  400000.0    0.0     0.499903  1.999614e+05     0.287651  0.000455  8.274286e-02  1.330584e+05  3.309706e+04  57.541225  1099.134624    0.0 -3.931826e-03 -1.193717\n",
       " 6           sID  1.000000      2.000000  400000.0    0.0     1.500000  6.000000e+05     0.500001  0.000791  2.500006e-01  1.000000e+06  1.000000e+05  33.333375  1897.364224    0.0  9.989713e-17 -2.000010\n",
       " 7          Time  1.000000      4.000000  400000.0    0.0     2.500000  1.000000e+06     1.118035  0.001768  1.250003e+00  3.000000e+06  5.000000e+05  44.721415  1414.211795    0.0 -7.631934e-17 -1.360002\n",
       " 8          Math -2.761392     91.265275  400000.0    0.0    29.987198  1.199488e+07    17.141076  0.027102  2.938165e+02  4.772191e+08  1.175263e+08  57.161312  1106.439839    0.0  7.888394e-01 -0.005196\n",
       "\n",
       "+ Elapsed: 0.0388s, user: 0.132s, sys: 0.0154s, mem: 2.31mb"
      ]
     },
     "execution_count": 4,
     "metadata": {},
     "output_type": "execute_result"
    }
   ],
   "source": [
    "School=conn.CASTable(name='SchoolSample', caslib='Public')\n",
    "conn.summary(School)"
   ]
  },
  {
   "cell_type": "markdown",
   "metadata": {},
   "source": [
    "## LINEAR MIXED MODEL"
   ]
  },
  {
   "cell_type": "code",
   "execution_count": 5,
   "metadata": {},
   "outputs": [
    {
     "name": "stdout",
     "output_type": "stream",
     "text": [
      "NOTE: Convergence criterion (GCONV=1E-8) satisfied.\n"
     ]
    }
   ],
   "source": [
    "res=conn.mixed(\n",
    "      table={\"name\":School},\n",
    "      classVars=['Neighborhood','SchoolID'],\n",
    "      model={'depVars':'Math',\n",
    "             'effects':['Time',\n",
    "                        {'vars':['Time','Time'],'interact':'CROSS'}\n",
    "                       ],\n",
    "              'printsol':'TRUE'},\n",
    "      random=[{'effects':['Time',\n",
    "                          {'vars':['Time','Time'],'interact':'CROSS'}\n",
    "                         ],\n",
    "               'noint':'False',\n",
    "               'subject':[{'vars':{'Neighborhood','SchoolID'},'interact':'CROSS'}],\n",
    "               'type':'RANDOM',\n",
    "               'covType':'UN',\n",
    "               'printsol':'True'}\n",
    "             ]\n",
    "    )"
   ]
  },
  {
   "cell_type": "markdown",
   "metadata": {},
   "source": [
    "### CHECK RESULTS"
   ]
  },
  {
   "cell_type": "code",
   "execution_count": 6,
   "metadata": {
    "scrolled": true
   },
   "outputs": [
    {
     "name": "stdout",
     "output_type": "stream",
     "text": [
      "Model Information\n",
      "\n",
      "         RowId                Description  \\\n",
      "0         DATA                Data Source   \n",
      "1  RESPONSEVAR          Response Variable   \n",
      "2    ESTMETHOD          Estimation Method   \n",
      "3     DFMETHOD  Degrees of Freedom Method   \n",
      "4     DMMETHOD       Design Matrix Method   \n",
      "\n",
      "                                  Value  \n",
      "0                          SCHOOLSAMPLE  \n",
      "1                                  Math  \n",
      "2  Restricted Maximum Likelihood (REML)  \n",
      "3                              Residual  \n",
      "4                                 Dense  \n"
     ]
    }
   ],
   "source": [
    "print(res.ModelInfo)"
   ]
  },
  {
   "cell_type": "code",
   "execution_count": 7,
   "metadata": {},
   "outputs": [
    {
     "name": "stdout",
     "output_type": "stream",
     "text": [
      "Optimization Information\n",
      "\n",
      "          RowId                 Description                        Value\n",
      "0     TECHNIQUE      Optimization Technique  Newton-Raphson with Ridging\n",
      "1       HESSIAN     Hessian in Optimization                        Exact\n",
      "2    PARAMETERS  Parameters in Optimization                            6\n",
      "3        LOWERB            Lower Boundaries                            3\n",
      "4        UPPERB            Upper Boundaries                            0\n",
      "5      RESIDVAR           Residual Variance                     Profiled\n",
      "6  STARTVALFROM        Starting Values From                         Data\n"
     ]
    }
   ],
   "source": [
    "print(res.OptInfo)"
   ]
  },
  {
   "cell_type": "code",
   "execution_count": 8,
   "metadata": {},
   "outputs": [
    {
     "name": "stdout",
     "output_type": "stream",
     "text": [
      "Class Level Information\n",
      "\n",
      "          Class   Levels                                             Values\n",
      "0  Neighborhood  15035.0  1 2 3 4 5 6 7 8 9 10 11 12 13 14 15 16 17 18 1...\n",
      "1      SchoolID   1000.0  1 2 3 4 5 6 7 8 9 10 11 12 13 14 15 16 17 18 1...\n"
     ]
    }
   ],
   "source": [
    "print(res.ClassInfo)"
   ]
  },
  {
   "cell_type": "code",
   "execution_count": 9,
   "metadata": {},
   "outputs": [
    {
     "name": "stdout",
     "output_type": "stream",
     "text": [
      "Number of Observations\n",
      "\n",
      "   RowId                  Description     Value\n",
      "0  NREAD  Number of Observations Read  400000.0\n",
      "1  NUSED  Number of Observations Used  400000.0\n"
     ]
    }
   ],
   "source": [
    "print(res.NObs)"
   ]
  },
  {
   "cell_type": "code",
   "execution_count": 10,
   "metadata": {},
   "outputs": [
    {
     "name": "stdout",
     "output_type": "stream",
     "text": [
      "Dimensions\n",
      "\n",
      "       RowId                   Description  Value\n",
      "0  GCOVPARMS  G-side Covariance Parameters      6\n",
      "1  RCOVPARMS  R-side Covariance Parameters      1\n",
      "2      NCOLX                  Columns in X      3\n",
      "3      NCOLZ      Columns in Z per Subject      3\n",
      "4  NSUBJECTS        Subjects (Blocks in V)  50000\n"
     ]
    }
   ],
   "source": [
    "print(res.Dimensions)"
   ]
  },
  {
   "cell_type": "code",
   "execution_count": 11,
   "metadata": {},
   "outputs": [
    {
     "name": "stdout",
     "output_type": "stream",
     "text": [
      "Convergence Status\n",
      "\n",
      "                                          Reason  Status  pdG\n",
      "0  Convergence criterion (GCONV=1E-8) satisfied.       0    1\n"
     ]
    }
   ],
   "source": [
    "print(res.ConvergenceStatus)"
   ]
  },
  {
   "cell_type": "code",
   "execution_count": 12,
   "metadata": {},
   "outputs": [
    {
     "name": "stdout",
     "output_type": "stream",
     "text": [
      "Covariance Parameter Estimates\n",
      "\n",
      "   RowId   CovParm                Subject   Estimate\n",
      "0      1   UN(1,1)  Neighborhood*SchoolID  18.796421\n",
      "1      2   UN(2,1)  Neighborhood*SchoolID  -0.121460\n",
      "2      3   UN(2,2)  Neighborhood*SchoolID  18.987352\n",
      "3      4   UN(3,1)  Neighborhood*SchoolID  -0.000438\n",
      "4      5   UN(3,2)  Neighborhood*SchoolID  -0.008045\n",
      "5      6   UN(3,3)  Neighborhood*SchoolID   0.083937\n",
      "6      7  Residual                          0.999797\n"
     ]
    }
   ],
   "source": [
    "print(res.CovParms)"
   ]
  },
  {
   "cell_type": "code",
   "execution_count": 13,
   "metadata": {},
   "outputs": [
    {
     "name": "stdout",
     "output_type": "stream",
     "text": [
      "Fit Statistics\n",
      "\n",
      "           RowId               Description         Value\n",
      "0  LOGLIKELIHOOD     -2 Res Log Likelihood  1.681870e+06\n",
      "1            AIC  AIC  (smaller is better)  1.681884e+06\n",
      "2           AICC  AICC (smaller is better)  1.681884e+06\n",
      "3            BIC  BIC  (smaller is better)  1.681945e+06\n",
      "4           CAIC  CAIC (smaller is better)  1.681952e+06\n",
      "5           HQIC  HQIC (smaller is better)  1.681903e+06\n"
     ]
    }
   ],
   "source": [
    "print(res.FitStatistics)"
   ]
  },
  {
   "cell_type": "code",
   "execution_count": 14,
   "metadata": {},
   "outputs": [
    {
     "name": "stdout",
     "output_type": "stream",
     "text": [
      "Solution for Fixed Effects\n",
      "\n",
      "      Effect  Estimate    StdErr        DF      tValue  Probt\n",
      "0  Intercept  7.496057  0.021293  399997.0  352.035143    0.0\n",
      "1       Time  7.493864  0.021077  399997.0  355.549379    0.0\n",
      "2  Time*Time  0.500864  0.002044  399997.0  245.032794    0.0\n"
     ]
    }
   ],
   "source": [
    "print(res.ParameterEstimates)"
   ]
  }
 ],
 "metadata": {
  "kernelspec": {
   "display_name": "Python 3",
   "language": "python",
   "name": "python3"
  },
  "language_info": {
   "codemirror_mode": {
    "name": "ipython",
    "version": 3
   },
   "file_extension": ".py",
   "mimetype": "text/x-python",
   "name": "python",
   "nbconvert_exporter": "python",
   "pygments_lexer": "ipython3",
   "version": "3.8.5"
  }
 },
 "nbformat": 4,
 "nbformat_minor": 4
}
